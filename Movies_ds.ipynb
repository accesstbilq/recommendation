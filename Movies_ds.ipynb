{
 "cells": [
  {
   "cell_type": "code",
   "execution_count": null,
   "id": "622ecb92-2e6d-4131-8bed-5bad7315a187",
   "metadata": {},
   "outputs": [],
   "source": [
    "## Movie Recommendtation Engine"
   ]
  },
  {
   "cell_type": "code",
   "execution_count": 1,
   "id": "fb2ae952-1cb7-487b-8bb4-1b1ac9b9b35b",
   "metadata": {},
   "outputs": [],
   "source": [
    "import pandas as pd\n",
    "import numpy as np\n",
    "import re\n",
    "from sklearn.model_selection import train_test_split\n",
    "from sklearn.linear_model import LinearRegression, Ridge\n",
    "import matplotlib.pyplot as plt\n",
    "import seaborn as sns\n",
    "from sklearn.preprocessing import StandardScaler, MinMaxScaler, OneHotEncoder, PowerTransformer, OrdinalEncoder, LabelEncoder, FunctionTransformer, PolynomialFeatures\n",
    "from sklearn.linear_model import SGDRegressor, Ridge, Lasso, ElasticNet\n",
    "from sklearn.utils import shuffle\n",
    "from sklearn.preprocessing import PolynomialFeatures, KBinsDiscretizer\n",
    "from sklearn.tree import DecisionTreeRegressor\n",
    "import scipy.stats as stats\n",
    "from sklearn.metrics import mean_squared_error, r2_score, mean_absolute_error, accuracy_score\n",
    "from sklearn.decomposition import PCA\n",
    "from sklearn.model_selection import cross_val_score, KFold\n",
    "from dateutil.parser import parse\n",
    "from sklearn.feature_extraction import FeatureHasher\n",
    "from sklearn.ensemble import VotingRegressor, RandomForestRegressor, GradientBoostingRegressor\n",
    "import ast\n",
    "from sklearn.feature_extraction.text import CountVectorizer\n",
    "\n",
    "from nltk.stem import PorterStemmer\n",
    "import nltk"
   ]
  },
  {
   "cell_type": "code",
   "execution_count": 2,
   "id": "093ccc69-7ca0-44f9-9cb3-71f3a38b2758",
   "metadata": {
    "scrolled": true
   },
   "outputs": [],
   "source": [
    "# nltk.download('all')"
   ]
  },
  {
   "cell_type": "markdown",
   "id": "d4d58887-12b8-4714-9d62-ca0ed32e11ce",
   "metadata": {},
   "source": [
    "### Importing Data set Movie and Movie credit"
   ]
  },
  {
   "cell_type": "markdown",
   "id": "44c206fe-0c35-469d-868e-485ed147bb9e",
   "metadata": {},
   "source": []
  },
  {
   "cell_type": "code",
   "execution_count": 3,
   "id": "e100620b-37d3-4502-9ef8-9229c021de6e",
   "metadata": {},
   "outputs": [],
   "source": [
    "# Load the movie dataset \n",
    "df = pd.read_csv('movie.csv', low_memory=False)"
   ]
  },
  {
   "cell_type": "code",
   "execution_count": 4,
   "id": "563f2492-0150-42ff-a718-dd003ace68fe",
   "metadata": {},
   "outputs": [],
   "source": [
    "# This dataframe contain movie credits (cast and crew details)\n",
    "df_2 = pd.read_csv('Movie_credits.csv', low_memory=False)"
   ]
  },
  {
   "cell_type": "code",
   "execution_count": 5,
   "id": "b46c67a3-77bd-4994-9cf1-e29de2283693",
   "metadata": {},
   "outputs": [
    {
     "data": {
      "text/plain": [
       "(4803, 20)"
      ]
     },
     "execution_count": 5,
     "metadata": {},
     "output_type": "execute_result"
    }
   ],
   "source": [
    "df.shape"
   ]
  },
  {
   "cell_type": "code",
   "execution_count": 6,
   "id": "2ca1ac36-6b65-4e64-a782-125cc4f86edd",
   "metadata": {},
   "outputs": [
    {
     "data": {
      "text/plain": [
       "(4803, 4)"
      ]
     },
     "execution_count": 6,
     "metadata": {},
     "output_type": "execute_result"
    }
   ],
   "source": [
    "df_2.shape"
   ]
  },
  {
   "cell_type": "code",
   "execution_count": 7,
   "id": "68c217e1-582b-4b67-b002-8439ee02fea0",
   "metadata": {},
   "outputs": [],
   "source": [
    "# Display the first few rows of the newly created DataFrame to verify its structure\n",
    "# df.head(2)"
   ]
  },
  {
   "cell_type": "code",
   "execution_count": 8,
   "id": "0c771ef1-cf1b-4c29-9558-56e8d21797ff",
   "metadata": {
    "scrolled": true
   },
   "outputs": [],
   "source": [
    "# Display the first few rows of the newly created DataFrame to verify its structure\n",
    "# df_2.head()"
   ]
  },
  {
   "cell_type": "markdown",
   "id": "df1cbb77-947e-44e9-bdc2-acfa5e76b6cc",
   "metadata": {},
   "source": [
    "### Merging both dataset based on ID"
   ]
  },
  {
   "cell_type": "code",
   "execution_count": 9,
   "id": "cc7a1eda-8276-49cc-9691-9b96e6565ff3",
   "metadata": {},
   "outputs": [],
   "source": [
    "# Merge two dataframes to consolidate movie data with additional cast and crew information\n",
    "new_df = df.merge(df_2[['movie_id', 'cast', 'crew']],\n",
    "                   left_on='id',\n",
    "                   right_on='movie_id',\n",
    "                   how='left')"
   ]
  },
  {
   "cell_type": "code",
   "execution_count": 10,
   "id": "3104e7c3-d201-432c-82bf-de7b287ea79e",
   "metadata": {},
   "outputs": [
    {
     "data": {
      "text/plain": [
       "(4803, 23)"
      ]
     },
     "execution_count": 10,
     "metadata": {},
     "output_type": "execute_result"
    }
   ],
   "source": [
    "new_df.shape"
   ]
  },
  {
   "cell_type": "code",
   "execution_count": 11,
   "id": "90cb9757-d03f-449e-97d3-bff852969f81",
   "metadata": {},
   "outputs": [],
   "source": [
    "# Remove unnecessary columns from the merged DataFrame to simplify and focus on relevant data\n",
    "filtered_df = new_df.drop(['movie_id', 'homepage', 'production_countries', 'release_date', 'revenue', 'runtime', 'status', 'tagline', 'vote_average', 'vote_count',  'original_title'], axis=1)"
   ]
  },
  {
   "cell_type": "code",
   "execution_count": 12,
   "id": "4898704c-137d-44b6-8756-2537027026ca",
   "metadata": {},
   "outputs": [
    {
     "data": {
      "text/html": [
       "<div>\n",
       "<style scoped>\n",
       "    .dataframe tbody tr th:only-of-type {\n",
       "        vertical-align: middle;\n",
       "    }\n",
       "\n",
       "    .dataframe tbody tr th {\n",
       "        vertical-align: top;\n",
       "    }\n",
       "\n",
       "    .dataframe thead th {\n",
       "        text-align: right;\n",
       "    }\n",
       "</style>\n",
       "<table border=\"1\" class=\"dataframe\">\n",
       "  <thead>\n",
       "    <tr style=\"text-align: right;\">\n",
       "      <th></th>\n",
       "      <th>budget</th>\n",
       "      <th>genres</th>\n",
       "      <th>id</th>\n",
       "      <th>keywords</th>\n",
       "      <th>original_language</th>\n",
       "      <th>overview</th>\n",
       "      <th>popularity</th>\n",
       "      <th>production_companies</th>\n",
       "      <th>spoken_languages</th>\n",
       "      <th>title</th>\n",
       "      <th>cast</th>\n",
       "      <th>crew</th>\n",
       "    </tr>\n",
       "  </thead>\n",
       "  <tbody>\n",
       "    <tr>\n",
       "      <th>0</th>\n",
       "      <td>237000000</td>\n",
       "      <td>[{\"id\": 28, \"name\": \"Action\"}, {\"id\": 12, \"nam...</td>\n",
       "      <td>19995</td>\n",
       "      <td>[{\"id\": 1463, \"name\": \"culture clash\"}, {\"id\":...</td>\n",
       "      <td>en</td>\n",
       "      <td>In the 22nd century, a paraplegic Marine is di...</td>\n",
       "      <td>150.437577</td>\n",
       "      <td>[{\"name\": \"Ingenious Film Partners\", \"id\": 289...</td>\n",
       "      <td>[{\"iso_639_1\": \"en\", \"name\": \"English\"}, {\"iso...</td>\n",
       "      <td>Avatar</td>\n",
       "      <td>[{\"cast_id\": 242, \"character\": \"Jake Sully\", \"...</td>\n",
       "      <td>[{\"credit_id\": \"52fe48009251416c750aca23\", \"de...</td>\n",
       "    </tr>\n",
       "    <tr>\n",
       "      <th>1</th>\n",
       "      <td>300000000</td>\n",
       "      <td>[{\"id\": 12, \"name\": \"Adventure\"}, {\"id\": 14, \"...</td>\n",
       "      <td>285</td>\n",
       "      <td>[{\"id\": 270, \"name\": \"ocean\"}, {\"id\": 726, \"na...</td>\n",
       "      <td>en</td>\n",
       "      <td>Captain Barbossa, long believed to be dead, ha...</td>\n",
       "      <td>139.082615</td>\n",
       "      <td>[{\"name\": \"Walt Disney Pictures\", \"id\": 2}, {\"...</td>\n",
       "      <td>[{\"iso_639_1\": \"en\", \"name\": \"English\"}]</td>\n",
       "      <td>Pirates of the Caribbean: At World's End</td>\n",
       "      <td>[{\"cast_id\": 4, \"character\": \"Captain Jack Spa...</td>\n",
       "      <td>[{\"credit_id\": \"52fe4232c3a36847f800b579\", \"de...</td>\n",
       "    </tr>\n",
       "    <tr>\n",
       "      <th>2</th>\n",
       "      <td>245000000</td>\n",
       "      <td>[{\"id\": 28, \"name\": \"Action\"}, {\"id\": 12, \"nam...</td>\n",
       "      <td>206647</td>\n",
       "      <td>[{\"id\": 470, \"name\": \"spy\"}, {\"id\": 818, \"name...</td>\n",
       "      <td>en</td>\n",
       "      <td>A cryptic message from Bond’s past sends him o...</td>\n",
       "      <td>107.376788</td>\n",
       "      <td>[{\"name\": \"Columbia Pictures\", \"id\": 5}, {\"nam...</td>\n",
       "      <td>[{\"iso_639_1\": \"fr\", \"name\": \"Fran\\u00e7ais\"},...</td>\n",
       "      <td>Spectre</td>\n",
       "      <td>[{\"cast_id\": 1, \"character\": \"James Bond\", \"cr...</td>\n",
       "      <td>[{\"credit_id\": \"54805967c3a36829b5002c41\", \"de...</td>\n",
       "    </tr>\n",
       "  </tbody>\n",
       "</table>\n",
       "</div>"
      ],
      "text/plain": [
       "      budget                                             genres      id  \\\n",
       "0  237000000  [{\"id\": 28, \"name\": \"Action\"}, {\"id\": 12, \"nam...   19995   \n",
       "1  300000000  [{\"id\": 12, \"name\": \"Adventure\"}, {\"id\": 14, \"...     285   \n",
       "2  245000000  [{\"id\": 28, \"name\": \"Action\"}, {\"id\": 12, \"nam...  206647   \n",
       "\n",
       "                                            keywords original_language  \\\n",
       "0  [{\"id\": 1463, \"name\": \"culture clash\"}, {\"id\":...                en   \n",
       "1  [{\"id\": 270, \"name\": \"ocean\"}, {\"id\": 726, \"na...                en   \n",
       "2  [{\"id\": 470, \"name\": \"spy\"}, {\"id\": 818, \"name...                en   \n",
       "\n",
       "                                            overview  popularity  \\\n",
       "0  In the 22nd century, a paraplegic Marine is di...  150.437577   \n",
       "1  Captain Barbossa, long believed to be dead, ha...  139.082615   \n",
       "2  A cryptic message from Bond’s past sends him o...  107.376788   \n",
       "\n",
       "                                production_companies  \\\n",
       "0  [{\"name\": \"Ingenious Film Partners\", \"id\": 289...   \n",
       "1  [{\"name\": \"Walt Disney Pictures\", \"id\": 2}, {\"...   \n",
       "2  [{\"name\": \"Columbia Pictures\", \"id\": 5}, {\"nam...   \n",
       "\n",
       "                                    spoken_languages  \\\n",
       "0  [{\"iso_639_1\": \"en\", \"name\": \"English\"}, {\"iso...   \n",
       "1           [{\"iso_639_1\": \"en\", \"name\": \"English\"}]   \n",
       "2  [{\"iso_639_1\": \"fr\", \"name\": \"Fran\\u00e7ais\"},...   \n",
       "\n",
       "                                      title  \\\n",
       "0                                    Avatar   \n",
       "1  Pirates of the Caribbean: At World's End   \n",
       "2                                   Spectre   \n",
       "\n",
       "                                                cast  \\\n",
       "0  [{\"cast_id\": 242, \"character\": \"Jake Sully\", \"...   \n",
       "1  [{\"cast_id\": 4, \"character\": \"Captain Jack Spa...   \n",
       "2  [{\"cast_id\": 1, \"character\": \"James Bond\", \"cr...   \n",
       "\n",
       "                                                crew  \n",
       "0  [{\"credit_id\": \"52fe48009251416c750aca23\", \"de...  \n",
       "1  [{\"credit_id\": \"52fe4232c3a36847f800b579\", \"de...  \n",
       "2  [{\"credit_id\": \"54805967c3a36829b5002c41\", \"de...  "
      ]
     },
     "execution_count": 12,
     "metadata": {},
     "output_type": "execute_result"
    }
   ],
   "source": [
    "filtered_df.head(3)"
   ]
  },
  {
   "cell_type": "code",
   "execution_count": 13,
   "id": "e1b122ce-c71c-4d23-9c7e-50b0a12e0bb4",
   "metadata": {},
   "outputs": [],
   "source": [
    "# null_counts = filtered_df.isnull().sum()\n",
    "# print(null_counts)"
   ]
  },
  {
   "cell_type": "code",
   "execution_count": 14,
   "id": "c27dbe79-fe3d-490d-8eba-c1ab795d86e6",
   "metadata": {},
   "outputs": [],
   "source": [
    "# dup_rows = filtered_df.duplicated().sum()\n",
    "# print(f\"dup rows: {dup_rows}\")"
   ]
  },
  {
   "cell_type": "code",
   "execution_count": 15,
   "id": "42c71018-7857-4205-810b-658285493a18",
   "metadata": {},
   "outputs": [
    {
     "name": "stdout",
     "output_type": "stream",
     "text": [
      "budget                    int64\n",
      "genres                   object\n",
      "id                        int64\n",
      "keywords                 object\n",
      "original_language        object\n",
      "overview                 object\n",
      "popularity              float64\n",
      "production_companies     object\n",
      "spoken_languages         object\n",
      "title                    object\n",
      "cast                     object\n",
      "crew                     object\n",
      "dtype: object\n"
     ]
    }
   ],
   "source": [
    "# Display the datatype of each columns in dataframe\n",
    "print(filtered_df.dtypes)"
   ]
  },
  {
   "cell_type": "code",
   "execution_count": 16,
   "id": "e9af770a-e8e0-41ac-ac68-818a86031be2",
   "metadata": {},
   "outputs": [
    {
     "name": "stdout",
     "output_type": "stream",
     "text": [
      "[{\"id\": 12, \"name\": \"Adventure\"}, {\"id\": 14, \"name\": \"Fantasy\"}, {\"id\": 28, \"name\": \"Action\"}]\n"
     ]
    }
   ],
   "source": [
    "print(filtered_df['genres'][1])"
   ]
  },
  {
   "cell_type": "code",
   "execution_count": 17,
   "id": "49266ee2-a4a2-42a8-a50c-5b30ffe22fea",
   "metadata": {},
   "outputs": [],
   "source": [
    "#Converting  Genres to genre_names  In normal format \n",
    "filtered_df['genre_names'] = filtered_df['genres'].apply(lambda x: ', '.join([genre['name'] for genre in eval(x)]) if isinstance(x, str) else ', '.join([genre['name'] for genre in x]))"
   ]
  },
  {
   "cell_type": "code",
   "execution_count": 18,
   "id": "d7a2af02-7cc5-4b73-909c-41e4d8b36ca2",
   "metadata": {},
   "outputs": [],
   "source": [
    "# Same Porcess Applied on keywords to keywords_name \n",
    "filtered_df['keywords_name'] = filtered_df['keywords'].apply(lambda x: ', '.join([keywords['name'] for keywords in eval(x)]) if isinstance(x, str) else ', '.join([keywords['name'] for keywords in x]))"
   ]
  },
  {
   "cell_type": "code",
   "execution_count": 19,
   "id": "645b6f7c-ff45-4fc4-85a7-2c544ce28013",
   "metadata": {},
   "outputs": [],
   "source": [
    "# Drop additional columns from the filtered dataframe that are not required further\n",
    "extracted_df = filtered_df.drop(['genres', 'keywords', 'spoken_languages', 'original_language'], axis=1)"
   ]
  },
  {
   "cell_type": "code",
   "execution_count": 20,
   "id": "d9e415bf-4b5d-4186-aeca-36eb847489a4",
   "metadata": {},
   "outputs": [
    {
     "data": {
      "text/html": [
       "<div>\n",
       "<style scoped>\n",
       "    .dataframe tbody tr th:only-of-type {\n",
       "        vertical-align: middle;\n",
       "    }\n",
       "\n",
       "    .dataframe tbody tr th {\n",
       "        vertical-align: top;\n",
       "    }\n",
       "\n",
       "    .dataframe thead th {\n",
       "        text-align: right;\n",
       "    }\n",
       "</style>\n",
       "<table border=\"1\" class=\"dataframe\">\n",
       "  <thead>\n",
       "    <tr style=\"text-align: right;\">\n",
       "      <th></th>\n",
       "      <th>budget</th>\n",
       "      <th>id</th>\n",
       "      <th>overview</th>\n",
       "      <th>popularity</th>\n",
       "      <th>production_companies</th>\n",
       "      <th>title</th>\n",
       "      <th>cast</th>\n",
       "      <th>crew</th>\n",
       "      <th>genre_names</th>\n",
       "      <th>keywords_name</th>\n",
       "    </tr>\n",
       "  </thead>\n",
       "  <tbody>\n",
       "    <tr>\n",
       "      <th>0</th>\n",
       "      <td>237000000</td>\n",
       "      <td>19995</td>\n",
       "      <td>In the 22nd century, a paraplegic Marine is di...</td>\n",
       "      <td>150.437577</td>\n",
       "      <td>[{\"name\": \"Ingenious Film Partners\", \"id\": 289...</td>\n",
       "      <td>Avatar</td>\n",
       "      <td>[{\"cast_id\": 242, \"character\": \"Jake Sully\", \"...</td>\n",
       "      <td>[{\"credit_id\": \"52fe48009251416c750aca23\", \"de...</td>\n",
       "      <td>Action, Adventure, Fantasy, Science Fiction</td>\n",
       "      <td>culture clash, future, space war, space colony...</td>\n",
       "    </tr>\n",
       "    <tr>\n",
       "      <th>1</th>\n",
       "      <td>300000000</td>\n",
       "      <td>285</td>\n",
       "      <td>Captain Barbossa, long believed to be dead, ha...</td>\n",
       "      <td>139.082615</td>\n",
       "      <td>[{\"name\": \"Walt Disney Pictures\", \"id\": 2}, {\"...</td>\n",
       "      <td>Pirates of the Caribbean: At World's End</td>\n",
       "      <td>[{\"cast_id\": 4, \"character\": \"Captain Jack Spa...</td>\n",
       "      <td>[{\"credit_id\": \"52fe4232c3a36847f800b579\", \"de...</td>\n",
       "      <td>Adventure, Fantasy, Action</td>\n",
       "      <td>ocean, drug abuse, exotic island, east india t...</td>\n",
       "    </tr>\n",
       "    <tr>\n",
       "      <th>2</th>\n",
       "      <td>245000000</td>\n",
       "      <td>206647</td>\n",
       "      <td>A cryptic message from Bond’s past sends him o...</td>\n",
       "      <td>107.376788</td>\n",
       "      <td>[{\"name\": \"Columbia Pictures\", \"id\": 5}, {\"nam...</td>\n",
       "      <td>Spectre</td>\n",
       "      <td>[{\"cast_id\": 1, \"character\": \"James Bond\", \"cr...</td>\n",
       "      <td>[{\"credit_id\": \"54805967c3a36829b5002c41\", \"de...</td>\n",
       "      <td>Action, Adventure, Crime</td>\n",
       "      <td>spy, based on novel, secret agent, sequel, mi6...</td>\n",
       "    </tr>\n",
       "  </tbody>\n",
       "</table>\n",
       "</div>"
      ],
      "text/plain": [
       "      budget      id                                           overview  \\\n",
       "0  237000000   19995  In the 22nd century, a paraplegic Marine is di...   \n",
       "1  300000000     285  Captain Barbossa, long believed to be dead, ha...   \n",
       "2  245000000  206647  A cryptic message from Bond’s past sends him o...   \n",
       "\n",
       "   popularity                               production_companies  \\\n",
       "0  150.437577  [{\"name\": \"Ingenious Film Partners\", \"id\": 289...   \n",
       "1  139.082615  [{\"name\": \"Walt Disney Pictures\", \"id\": 2}, {\"...   \n",
       "2  107.376788  [{\"name\": \"Columbia Pictures\", \"id\": 5}, {\"nam...   \n",
       "\n",
       "                                      title  \\\n",
       "0                                    Avatar   \n",
       "1  Pirates of the Caribbean: At World's End   \n",
       "2                                   Spectre   \n",
       "\n",
       "                                                cast  \\\n",
       "0  [{\"cast_id\": 242, \"character\": \"Jake Sully\", \"...   \n",
       "1  [{\"cast_id\": 4, \"character\": \"Captain Jack Spa...   \n",
       "2  [{\"cast_id\": 1, \"character\": \"James Bond\", \"cr...   \n",
       "\n",
       "                                                crew  \\\n",
       "0  [{\"credit_id\": \"52fe48009251416c750aca23\", \"de...   \n",
       "1  [{\"credit_id\": \"52fe4232c3a36847f800b579\", \"de...   \n",
       "2  [{\"credit_id\": \"54805967c3a36829b5002c41\", \"de...   \n",
       "\n",
       "                                   genre_names  \\\n",
       "0  Action, Adventure, Fantasy, Science Fiction   \n",
       "1                   Adventure, Fantasy, Action   \n",
       "2                     Action, Adventure, Crime   \n",
       "\n",
       "                                       keywords_name  \n",
       "0  culture clash, future, space war, space colony...  \n",
       "1  ocean, drug abuse, exotic island, east india t...  \n",
       "2  spy, based on novel, secret agent, sequel, mi6...  "
      ]
     },
     "execution_count": 20,
     "metadata": {},
     "output_type": "execute_result"
    }
   ],
   "source": [
    "# Display the first three rows\n",
    "extracted_df.head(3)"
   ]
  },
  {
   "cell_type": "code",
   "execution_count": 21,
   "id": "601bb8bf-d050-453b-9ce8-176e5e63f65a",
   "metadata": {},
   "outputs": [],
   "source": [
    "# Create a new DataFrame with selected columns to organize and re-arrange the columns\n",
    "new_df = extracted_df[['id', 'title', 'budget', 'overview', 'popularity', 'genre_names', 'keywords_name', 'cast', 'crew',  'production_companies',]].copy()"
   ]
  },
  {
   "cell_type": "code",
   "execution_count": 22,
   "id": "3dd08f7e-9162-4a87-b6a0-6e1e46694048",
   "metadata": {},
   "outputs": [
    {
     "data": {
      "text/html": [
       "<div>\n",
       "<style scoped>\n",
       "    .dataframe tbody tr th:only-of-type {\n",
       "        vertical-align: middle;\n",
       "    }\n",
       "\n",
       "    .dataframe tbody tr th {\n",
       "        vertical-align: top;\n",
       "    }\n",
       "\n",
       "    .dataframe thead th {\n",
       "        text-align: right;\n",
       "    }\n",
       "</style>\n",
       "<table border=\"1\" class=\"dataframe\">\n",
       "  <thead>\n",
       "    <tr style=\"text-align: right;\">\n",
       "      <th></th>\n",
       "      <th>id</th>\n",
       "      <th>title</th>\n",
       "      <th>budget</th>\n",
       "      <th>overview</th>\n",
       "      <th>popularity</th>\n",
       "      <th>genre_names</th>\n",
       "      <th>keywords_name</th>\n",
       "      <th>cast</th>\n",
       "      <th>crew</th>\n",
       "      <th>production_companies</th>\n",
       "    </tr>\n",
       "  </thead>\n",
       "  <tbody>\n",
       "    <tr>\n",
       "      <th>0</th>\n",
       "      <td>19995</td>\n",
       "      <td>Avatar</td>\n",
       "      <td>237000000</td>\n",
       "      <td>In the 22nd century, a paraplegic Marine is di...</td>\n",
       "      <td>150.437577</td>\n",
       "      <td>Action, Adventure, Fantasy, Science Fiction</td>\n",
       "      <td>culture clash, future, space war, space colony...</td>\n",
       "      <td>[{\"cast_id\": 242, \"character\": \"Jake Sully\", \"...</td>\n",
       "      <td>[{\"credit_id\": \"52fe48009251416c750aca23\", \"de...</td>\n",
       "      <td>[{\"name\": \"Ingenious Film Partners\", \"id\": 289...</td>\n",
       "    </tr>\n",
       "    <tr>\n",
       "      <th>1</th>\n",
       "      <td>285</td>\n",
       "      <td>Pirates of the Caribbean: At World's End</td>\n",
       "      <td>300000000</td>\n",
       "      <td>Captain Barbossa, long believed to be dead, ha...</td>\n",
       "      <td>139.082615</td>\n",
       "      <td>Adventure, Fantasy, Action</td>\n",
       "      <td>ocean, drug abuse, exotic island, east india t...</td>\n",
       "      <td>[{\"cast_id\": 4, \"character\": \"Captain Jack Spa...</td>\n",
       "      <td>[{\"credit_id\": \"52fe4232c3a36847f800b579\", \"de...</td>\n",
       "      <td>[{\"name\": \"Walt Disney Pictures\", \"id\": 2}, {\"...</td>\n",
       "    </tr>\n",
       "    <tr>\n",
       "      <th>2</th>\n",
       "      <td>206647</td>\n",
       "      <td>Spectre</td>\n",
       "      <td>245000000</td>\n",
       "      <td>A cryptic message from Bond’s past sends him o...</td>\n",
       "      <td>107.376788</td>\n",
       "      <td>Action, Adventure, Crime</td>\n",
       "      <td>spy, based on novel, secret agent, sequel, mi6...</td>\n",
       "      <td>[{\"cast_id\": 1, \"character\": \"James Bond\", \"cr...</td>\n",
       "      <td>[{\"credit_id\": \"54805967c3a36829b5002c41\", \"de...</td>\n",
       "      <td>[{\"name\": \"Columbia Pictures\", \"id\": 5}, {\"nam...</td>\n",
       "    </tr>\n",
       "  </tbody>\n",
       "</table>\n",
       "</div>"
      ],
      "text/plain": [
       "       id                                     title     budget  \\\n",
       "0   19995                                    Avatar  237000000   \n",
       "1     285  Pirates of the Caribbean: At World's End  300000000   \n",
       "2  206647                                   Spectre  245000000   \n",
       "\n",
       "                                            overview  popularity  \\\n",
       "0  In the 22nd century, a paraplegic Marine is di...  150.437577   \n",
       "1  Captain Barbossa, long believed to be dead, ha...  139.082615   \n",
       "2  A cryptic message from Bond’s past sends him o...  107.376788   \n",
       "\n",
       "                                   genre_names  \\\n",
       "0  Action, Adventure, Fantasy, Science Fiction   \n",
       "1                   Adventure, Fantasy, Action   \n",
       "2                     Action, Adventure, Crime   \n",
       "\n",
       "                                       keywords_name  \\\n",
       "0  culture clash, future, space war, space colony...   \n",
       "1  ocean, drug abuse, exotic island, east india t...   \n",
       "2  spy, based on novel, secret agent, sequel, mi6...   \n",
       "\n",
       "                                                cast  \\\n",
       "0  [{\"cast_id\": 242, \"character\": \"Jake Sully\", \"...   \n",
       "1  [{\"cast_id\": 4, \"character\": \"Captain Jack Spa...   \n",
       "2  [{\"cast_id\": 1, \"character\": \"James Bond\", \"cr...   \n",
       "\n",
       "                                                crew  \\\n",
       "0  [{\"credit_id\": \"52fe48009251416c750aca23\", \"de...   \n",
       "1  [{\"credit_id\": \"52fe4232c3a36847f800b579\", \"de...   \n",
       "2  [{\"credit_id\": \"54805967c3a36829b5002c41\", \"de...   \n",
       "\n",
       "                                production_companies  \n",
       "0  [{\"name\": \"Ingenious Film Partners\", \"id\": 289...  \n",
       "1  [{\"name\": \"Walt Disney Pictures\", \"id\": 2}, {\"...  \n",
       "2  [{\"name\": \"Columbia Pictures\", \"id\": 5}, {\"nam...  "
      ]
     },
     "execution_count": 22,
     "metadata": {},
     "output_type": "execute_result"
    }
   ],
   "source": [
    "# Display the first three rows data\n",
    "new_df.head(3)"
   ]
  },
  {
   "cell_type": "code",
   "execution_count": 23,
   "id": "8a9b5209-3cdf-492d-b87c-d60ea409158d",
   "metadata": {},
   "outputs": [],
   "source": [
    "# Convert string representations of lists in the 'crew' column back to Python list objects\n",
    "\n",
    "new_df['crew'] = new_df['crew'].apply(ast.literal_eval)\n",
    "\n",
    "# new_df['director_name'] = new_df['crew'].apply(\n",
    "#     lambda x: next((crew['name'] for crew in x if crew['job'].lower() == 'director'), None)\n",
    "# )\n",
    "\n",
    "# Extract the name of the director from the 'crew' data, remove spaces from names for consistency, and add it to a new 'director_name' column\n",
    "new_df['director_name'] = new_df['crew'].apply(\n",
    "   lambda x: next((crew['name'].replace(' ', '') for crew in x if crew['job'].lower() == 'director'), None)\n",
    ")"
   ]
  },
  {
   "cell_type": "code",
   "execution_count": 24,
   "id": "849fff48-d318-46b6-9e0e-ad4cbd76180f",
   "metadata": {},
   "outputs": [
    {
     "data": {
      "text/html": [
       "<div>\n",
       "<style scoped>\n",
       "    .dataframe tbody tr th:only-of-type {\n",
       "        vertical-align: middle;\n",
       "    }\n",
       "\n",
       "    .dataframe tbody tr th {\n",
       "        vertical-align: top;\n",
       "    }\n",
       "\n",
       "    .dataframe thead th {\n",
       "        text-align: right;\n",
       "    }\n",
       "</style>\n",
       "<table border=\"1\" class=\"dataframe\">\n",
       "  <thead>\n",
       "    <tr style=\"text-align: right;\">\n",
       "      <th></th>\n",
       "      <th>id</th>\n",
       "      <th>title</th>\n",
       "      <th>budget</th>\n",
       "      <th>overview</th>\n",
       "      <th>popularity</th>\n",
       "      <th>genre_names</th>\n",
       "      <th>keywords_name</th>\n",
       "      <th>cast</th>\n",
       "      <th>crew</th>\n",
       "      <th>production_companies</th>\n",
       "      <th>director_name</th>\n",
       "    </tr>\n",
       "  </thead>\n",
       "  <tbody>\n",
       "    <tr>\n",
       "      <th>0</th>\n",
       "      <td>19995</td>\n",
       "      <td>Avatar</td>\n",
       "      <td>237000000</td>\n",
       "      <td>In the 22nd century, a paraplegic Marine is di...</td>\n",
       "      <td>150.437577</td>\n",
       "      <td>Action, Adventure, Fantasy, Science Fiction</td>\n",
       "      <td>culture clash, future, space war, space colony...</td>\n",
       "      <td>[{\"cast_id\": 242, \"character\": \"Jake Sully\", \"...</td>\n",
       "      <td>[{'credit_id': '52fe48009251416c750aca23', 'de...</td>\n",
       "      <td>[{\"name\": \"Ingenious Film Partners\", \"id\": 289...</td>\n",
       "      <td>JamesCameron</td>\n",
       "    </tr>\n",
       "    <tr>\n",
       "      <th>1</th>\n",
       "      <td>285</td>\n",
       "      <td>Pirates of the Caribbean: At World's End</td>\n",
       "      <td>300000000</td>\n",
       "      <td>Captain Barbossa, long believed to be dead, ha...</td>\n",
       "      <td>139.082615</td>\n",
       "      <td>Adventure, Fantasy, Action</td>\n",
       "      <td>ocean, drug abuse, exotic island, east india t...</td>\n",
       "      <td>[{\"cast_id\": 4, \"character\": \"Captain Jack Spa...</td>\n",
       "      <td>[{'credit_id': '52fe4232c3a36847f800b579', 'de...</td>\n",
       "      <td>[{\"name\": \"Walt Disney Pictures\", \"id\": 2}, {\"...</td>\n",
       "      <td>GoreVerbinski</td>\n",
       "    </tr>\n",
       "    <tr>\n",
       "      <th>2</th>\n",
       "      <td>206647</td>\n",
       "      <td>Spectre</td>\n",
       "      <td>245000000</td>\n",
       "      <td>A cryptic message from Bond’s past sends him o...</td>\n",
       "      <td>107.376788</td>\n",
       "      <td>Action, Adventure, Crime</td>\n",
       "      <td>spy, based on novel, secret agent, sequel, mi6...</td>\n",
       "      <td>[{\"cast_id\": 1, \"character\": \"James Bond\", \"cr...</td>\n",
       "      <td>[{'credit_id': '54805967c3a36829b5002c41', 'de...</td>\n",
       "      <td>[{\"name\": \"Columbia Pictures\", \"id\": 5}, {\"nam...</td>\n",
       "      <td>SamMendes</td>\n",
       "    </tr>\n",
       "  </tbody>\n",
       "</table>\n",
       "</div>"
      ],
      "text/plain": [
       "       id                                     title     budget  \\\n",
       "0   19995                                    Avatar  237000000   \n",
       "1     285  Pirates of the Caribbean: At World's End  300000000   \n",
       "2  206647                                   Spectre  245000000   \n",
       "\n",
       "                                            overview  popularity  \\\n",
       "0  In the 22nd century, a paraplegic Marine is di...  150.437577   \n",
       "1  Captain Barbossa, long believed to be dead, ha...  139.082615   \n",
       "2  A cryptic message from Bond’s past sends him o...  107.376788   \n",
       "\n",
       "                                   genre_names  \\\n",
       "0  Action, Adventure, Fantasy, Science Fiction   \n",
       "1                   Adventure, Fantasy, Action   \n",
       "2                     Action, Adventure, Crime   \n",
       "\n",
       "                                       keywords_name  \\\n",
       "0  culture clash, future, space war, space colony...   \n",
       "1  ocean, drug abuse, exotic island, east india t...   \n",
       "2  spy, based on novel, secret agent, sequel, mi6...   \n",
       "\n",
       "                                                cast  \\\n",
       "0  [{\"cast_id\": 242, \"character\": \"Jake Sully\", \"...   \n",
       "1  [{\"cast_id\": 4, \"character\": \"Captain Jack Spa...   \n",
       "2  [{\"cast_id\": 1, \"character\": \"James Bond\", \"cr...   \n",
       "\n",
       "                                                crew  \\\n",
       "0  [{'credit_id': '52fe48009251416c750aca23', 'de...   \n",
       "1  [{'credit_id': '52fe4232c3a36847f800b579', 'de...   \n",
       "2  [{'credit_id': '54805967c3a36829b5002c41', 'de...   \n",
       "\n",
       "                                production_companies  director_name  \n",
       "0  [{\"name\": \"Ingenious Film Partners\", \"id\": 289...   JamesCameron  \n",
       "1  [{\"name\": \"Walt Disney Pictures\", \"id\": 2}, {\"...  GoreVerbinski  \n",
       "2  [{\"name\": \"Columbia Pictures\", \"id\": 5}, {\"nam...      SamMendes  "
      ]
     },
     "execution_count": 24,
     "metadata": {},
     "output_type": "execute_result"
    }
   ],
   "source": [
    "# Display the first three rows data\n",
    "new_df.head(3)"
   ]
  },
  {
   "cell_type": "code",
   "execution_count": 25,
   "id": "253400b5-9afc-4fa8-b5f2-05746ca6d290",
   "metadata": {},
   "outputs": [],
   "source": [
    "# Combine relevant information into a single column for consolidated data analysis\n",
    "new_df['merged_info'] = new_df['overview'] + ' ' + new_df['genre_names'] + ' ' +  new_df['keywords_name'] + ' ' + new_df['director_name']"
   ]
  },
  {
   "cell_type": "code",
   "execution_count": 26,
   "id": "1ee07a61-376b-4b2d-a57f-836025108449",
   "metadata": {},
   "outputs": [],
   "source": [
    "# Drop columns that are no longer needed after merging their information into the 'merged_info' column\n",
    "new_df = new_df.drop(['budget', 'overview', 'popularity', 'genre_names', 'keywords_name', 'cast', 'crew', 'production_companies', 'director_name'], axis=1)"
   ]
  },
  {
   "cell_type": "code",
   "execution_count": 27,
   "id": "175a1bd2-6e87-4722-bc08-5fa2b0abc9c9",
   "metadata": {},
   "outputs": [
    {
     "data": {
      "text/html": [
       "<div>\n",
       "<style scoped>\n",
       "    .dataframe tbody tr th:only-of-type {\n",
       "        vertical-align: middle;\n",
       "    }\n",
       "\n",
       "    .dataframe tbody tr th {\n",
       "        vertical-align: top;\n",
       "    }\n",
       "\n",
       "    .dataframe thead th {\n",
       "        text-align: right;\n",
       "    }\n",
       "</style>\n",
       "<table border=\"1\" class=\"dataframe\">\n",
       "  <thead>\n",
       "    <tr style=\"text-align: right;\">\n",
       "      <th></th>\n",
       "      <th>id</th>\n",
       "      <th>title</th>\n",
       "      <th>merged_info</th>\n",
       "    </tr>\n",
       "  </thead>\n",
       "  <tbody>\n",
       "    <tr>\n",
       "      <th>0</th>\n",
       "      <td>19995</td>\n",
       "      <td>Avatar</td>\n",
       "      <td>In the 22nd century, a paraplegic Marine is di...</td>\n",
       "    </tr>\n",
       "    <tr>\n",
       "      <th>1</th>\n",
       "      <td>285</td>\n",
       "      <td>Pirates of the Caribbean: At World's End</td>\n",
       "      <td>Captain Barbossa, long believed to be dead, ha...</td>\n",
       "    </tr>\n",
       "    <tr>\n",
       "      <th>2</th>\n",
       "      <td>206647</td>\n",
       "      <td>Spectre</td>\n",
       "      <td>A cryptic message from Bond’s past sends him o...</td>\n",
       "    </tr>\n",
       "  </tbody>\n",
       "</table>\n",
       "</div>"
      ],
      "text/plain": [
       "       id                                     title  \\\n",
       "0   19995                                    Avatar   \n",
       "1     285  Pirates of the Caribbean: At World's End   \n",
       "2  206647                                   Spectre   \n",
       "\n",
       "                                         merged_info  \n",
       "0  In the 22nd century, a paraplegic Marine is di...  \n",
       "1  Captain Barbossa, long believed to be dead, ha...  \n",
       "2  A cryptic message from Bond’s past sends him o...  "
      ]
     },
     "execution_count": 27,
     "metadata": {},
     "output_type": "execute_result"
    }
   ],
   "source": [
    "new_df.head(3)"
   ]
  },
  {
   "cell_type": "code",
   "execution_count": 28,
   "id": "edd7629f-d07f-4561-bd2a-5c43ec15ef16",
   "metadata": {
    "scrolled": true
   },
   "outputs": [
    {
     "name": "stdout",
     "output_type": "stream",
     "text": [
      "Captain Barbossa, long believed to be dead, has come back to life and is headed to the edge of the Earth with Will Turner and Elizabeth Swann. But nothing is quite as it seems. Adventure, Fantasy, Action ocean, drug abuse, exotic island, east india trading company, love of one's life, traitor, shipwreck, strong woman, ship, alliance, calypso, afterlife, fighter, pirate, swashbuckler, aftercreditsstinger GoreVerbinski\n"
     ]
    }
   ],
   "source": [
    "print(new_df['merged_info'][1])"
   ]
  },
  {
   "cell_type": "code",
   "execution_count": 29,
   "id": "b18bf879-cd56-4133-b8c6-970b0026f21f",
   "metadata": {},
   "outputs": [],
   "source": [
    "# Remove rows with missing information in the 'merged_info' column to clean up the dataset\n",
    "new_df = new_df.dropna(subset=['merged_info'])"
   ]
  },
  {
   "cell_type": "code",
   "execution_count": 30,
   "id": "f472ced8-debb-4f96-b6b3-aadba13c5ccf",
   "metadata": {},
   "outputs": [
    {
     "name": "stdout",
     "output_type": "stream",
     "text": [
      "id             0\n",
      "title          0\n",
      "merged_info    0\n",
      "dtype: int64\n"
     ]
    }
   ],
   "source": [
    "# Calculate the count of null values in each column\n",
    "null_counts = new_df.isnull().sum()\n",
    "print(null_counts)"
   ]
  },
  {
   "cell_type": "markdown",
   "id": "703b45dd-02b9-4297-9e7f-578cbdb043a1",
   "metadata": {},
   "source": [
    "Stemming"
   ]
  },
  {
   "cell_type": "code",
   "execution_count": 31,
   "id": "99867b59-9cb7-43a8-be82-04a3c8042113",
   "metadata": {},
   "outputs": [],
   "source": [
    "# Instantiate a PorterStemmer object - Stemming\n",
    "ps = PorterStemmer()\n",
    "\n",
    "# Apply stemming to each word in the 'merged_info' column to reduce words to their root forms\n",
    "new_df['merged_info'] = new_df['merged_info'].apply(\n",
    "    lambda x: ' '.join([ps.stem(word) for word in nltk.word_tokenize(str(x))])\n",
    ")"
   ]
  },
  {
   "cell_type": "markdown",
   "id": "fc05ea8f-9c37-4b45-a037-606b30962f88",
   "metadata": {},
   "source": [
    "Bag of Words"
   ]
  },
  {
   "cell_type": "code",
   "execution_count": 43,
   "id": "244f274f-e1c1-4c20-8e5c-edfd24af437a",
   "metadata": {
    "scrolled": true
   },
   "outputs": [],
   "source": [
    "# Using sklearn library load their funciton CountVectorizer and create the vectors through it from the column `merged_info` - Bag of words\n",
    "vectorizer = CountVectorizer(\n",
    "    stop_words='english',\n",
    "    # max_features=4000,\n",
    "    lowercase=True,\n",
    ")\n",
    "bow_matrix = vectorizer.fit_transform(new_df['merged_info'])\n",
    "feature_names = vectorizer.get_feature_names_out()"
   ]
  },
  {
   "cell_type": "code",
   "execution_count": 33,
   "id": "ee489d90-b6ab-4392-8af2-7fd0e3dffe6a",
   "metadata": {},
   "outputs": [
    {
     "data": {
      "text/plain": [
       "(4770, 19312)"
      ]
     },
     "execution_count": 33,
     "metadata": {},
     "output_type": "execute_result"
    }
   ],
   "source": [
    "bow_matrix.shape"
   ]
  },
  {
   "cell_type": "code",
   "execution_count": 34,
   "id": "c30fadb3-671d-446a-b67f-6babd809bc9a",
   "metadata": {},
   "outputs": [
    {
     "name": "stdout",
     "output_type": "stream",
     "text": [
      "19312\n"
     ]
    }
   ],
   "source": [
    "print(len(feature_names))"
   ]
  },
  {
   "cell_type": "code",
   "execution_count": 35,
   "id": "44325a1f-b293-4ee4-a0a6-b42bf43c7f30",
   "metadata": {},
   "outputs": [
    {
     "name": "stdout",
     "output_type": "stream",
     "text": [
      "['00' '000' '007' '07am' '10' '100' '1000' '101' '108' '10th' '11' '114'\n",
      " '117' '118' '119' '11th' '12' '1200' '1215' '1250' '125th' '12th' '13'\n",
      " '1300' '13th' '14' '140' '1408' '142' '1429' '148' '14pm' '14th' '15'\n",
      " '150' '150th' '1520' '1536' '15th' '16' '1600' '161' '1630' '1644' '1681'\n",
      " '1691' '16th' '17' '170' '1700' '173rd' '1748' '1776' '17th' '18' '180'\n",
      " '1800' '1818' '1820' '1824' '1831' '1834' '1836' '1838' '1839' '1841'\n",
      " '1845' '1850' '1856' '1857' '1860' '1862' '1863' '1870' '1875' '1876'\n",
      " '1879' '1880' '1882' '1885' '1889' '1890' '18th' '19' '1900' '1903'\n",
      " '1905' '191' '1910' '1911' '1912' '1914' '1915' '1917' '1918' '1919'\n",
      " '1920' '1921' '1922' '1924' '1925' '1926' '1927' '1928' '1929' '1930'\n",
      " '1931' '1932' '1933' '1934' '1936' '1937' '1939' '1940' '1941' '1942'\n",
      " '1943' '1944' '1945' '1946' '1947' '1949' '1950' '1951' '1952' '1953'\n",
      " '1954' '1955' '1956' '1957' '1958' '1959' '1960' '1962' '1964' '1965'\n",
      " '1966' '1967' '1968' '1969' '1970' '1971' '1972' '1973' '1974' '1975'\n",
      " '1976' '1977' '1978' '1979' '1980' '1980s' '1981' '1982' '1983' '1984'\n",
      " '1985' '1986' '1987' '1988' '1989' '1990' '1991' '1992' '1993' '1994'\n",
      " '1995' '1996' '1997' '1998' '1999' '19th' '1st' '20' '200' '2000' '2001'\n",
      " '2002' '2003' '2004' '2005' '2006' '2007' '2008' '2009' '2010' '2011'\n",
      " '2012' '2013' '2014' '2015' '2016' '2017' '2018' '2019' '2020' '2025'\n",
      " '2027' '2028' '2029' '2035' '2046' '2047' '2058' '2079' '2087' '20th'\n",
      " '21' '2159' '2199' '21st' '22' '2257' '22nd' '23' '24' '2455' '25' '250'\n",
      " '2505' '250cc' '25th' '26' '27' '27th' '28' '280' '28th' '29' '298' '2nd'\n",
      " '30' '300' '3000' '30th' '31' '310lb' '32' '33' '344m' '35' '350' '370'\n",
      " '38' '39' '3d' '3po' '40' '400' '42' '43' '44' '47' '47th' '48' '480'\n",
      " '49' '4k' '4th' '50' '500' '50th' '51' '51st' '53' '533' '54' '56' '58'\n",
      " '59' '5m' '5th' '60' '600' '63' '64' '643' '65th' '66' '69' '6th' '70'\n",
      " '700' '70mm' '72' '73' '747' '74th' '75' '75th' '78' '79' '7th' '80'\n",
      " '800' '81' '83' '84' '86' '88' '8km' '8th' '90' '9000' '900lb' '90210'\n",
      " '911' '922' '92nd' '93' '95' '96' '98' '99' '9th' '_wizard' 'aa' 'aaa'\n",
      " 'aam' 'aang' 'aaron' 'aaronhann' 'aaronschneid' 'aba' 'abaddon' 'abagnal'\n",
      " 'abandon' 'abba' 'abbat' 'abberlin' 'abbey' 'abbi' 'abbott' 'abdic'\n",
      " 'abduct' 'abductor' 'abe' 'abel' 'abelferrara' 'aberdeen' 'abernathi'\n",
      " 'abhor' 'abhorr' 'abid' 'abigail' 'abil' 'abl' 'ablai' 'ableman' 'abo'\n",
      " 'aboard' 'abod' 'abolish' 'abolit' 'abolitionist' 'aborigin' 'abort'\n",
      " 'abortionist' 'abound' 'abov' 'abraham' 'abram' 'abras' 'abroad' 'abrupt'\n",
      " 'abruptli' 'abs' 'absenc' 'absent' 'absentia' 'abshir' 'absolut' 'absorb'\n",
      " 'absorpt' 'abstract' 'absurd' 'abu' 'abund' 'abus' 'abyss' 'aca' 'academ'\n",
      " 'academi' 'academia' 'acapella' 'acapulco' 'acceler' 'accent' 'accept'\n",
      " 'access' 'accessori' 'accid' 'accident' 'accidentali' 'acclaim' 'acclim'\n",
      " 'accolad' 'accompani' 'accomplic' 'accomplish' 'accord' 'accordian'\n",
      " 'account' 'accra' 'accumul' 'accuraci' 'accurs' 'accus' 'ace' 'ach'\n",
      " 'achiev' 'achil' 'achim' 'acid' 'acker' 'acquaint' 'acquir' 'acquit'\n",
      " 'acquitt' 'acr' 'acrimoni' 'acrobat' 'act' 'action' 'activ' 'activist'\n",
      " 'actor' 'actress' 'actual' 'actuari' 'acut' 'ad' 'ada' 'adalin' 'adam'\n",
      " 'adambrook' 'adamcarolla' 'adamgoldberg' 'adamgreen' 'adamjayepstein'\n",
      " 'adammarcu' 'adammckay' 'adamrapp' 'adamrifkin' 'adamshankman' 'adap'\n",
      " 'adapt' 'add' 'addict' 'addit' 'addl' 'address' 'adel' 'adela' 'adelaid'\n",
      " 'adept' 'adeptli' 'adhd' 'adib' 'aditya' 'adjac' 'adjani' 'adjust' 'adl'\n",
      " 'adler' 'adm' 'administ' 'administr' 'admir' 'admiss' 'admit' 'admonish'\n",
      " 'admonit' 'adolesc' 'adolf' 'adoni' 'adonijah' 'adopt' 'ador' 'adren'\n",
      " 'adrenalin' 'adrenaline' 'adrian' 'adriana' 'adrianlyn' 'adrienneshelli'\n",
      " 'adrift' 'adul' 'adult' 'adulter' 'adulteri' 'adulthood' 'adultress'\n",
      " 'advanc' 'advantag' 'advent' 'adventur' 'adventure' 'advers' 'adversari']\n"
     ]
    }
   ],
   "source": [
    "print(feature_names[:500])"
   ]
  },
  {
   "cell_type": "code",
   "execution_count": 36,
   "id": "b33e6c66-26d5-42ae-bc77-71dfbfb654d5",
   "metadata": {},
   "outputs": [],
   "source": [
    "# Calculate the cosine similarity between the vectors in the bag-of-words matrix\n",
    "from sklearn.metrics.pairwise import cosine_similarity\n",
    "cosine_sim = cosine_similarity(bow_matrix, bow_matrix)"
   ]
  },
  {
   "cell_type": "code",
   "execution_count": 37,
   "id": "1571f462-644c-4216-9b93-ee1fe87a1209",
   "metadata": {},
   "outputs": [
    {
     "data": {
      "text/plain": [
       "array([[1.        , 0.0693167 , 0.04982042, ..., 0.06947125, 0.0158193 ,\n",
       "        0.        ],\n",
       "       [0.0693167 , 1.        , 0.04259177, ..., 0.05345225, 0.        ,\n",
       "        0.01974496],\n",
       "       [0.04982042, 0.04259177, 1.        , ..., 0.03414939, 0.        ,\n",
       "        0.        ],\n",
       "       ...,\n",
       "       [0.06947125, 0.05345225, 0.03414939, ..., 1.        , 0.048795  ,\n",
       "        0.03166238],\n",
       "       [0.0158193 , 0.        , 0.        , ..., 0.048795  , 1.        ,\n",
       "        0.07209841],\n",
       "       [0.        , 0.01974496, 0.        , ..., 0.03166238, 0.07209841,\n",
       "        1.        ]])"
      ]
     },
     "execution_count": 37,
     "metadata": {},
     "output_type": "execute_result"
    }
   ],
   "source": [
    "cosine_sim"
   ]
  },
  {
   "cell_type": "code",
   "execution_count": 38,
   "id": "3e96d686-08bb-4f04-a50c-b3856fb61e90",
   "metadata": {},
   "outputs": [
    {
     "data": {
      "text/plain": [
       "(4770,)"
      ]
     },
     "execution_count": 38,
     "metadata": {},
     "output_type": "execute_result"
    }
   ],
   "source": [
    "cosine_sim[0].shape"
   ]
  },
  {
   "cell_type": "code",
   "execution_count": 39,
   "id": "532cd6cf-0188-47d4-a202-72a088d55fd0",
   "metadata": {},
   "outputs": [
    {
     "data": {
      "text/plain": [
       "array([1.        , 0.0693167 , 0.04982042, ..., 0.06947125, 0.0158193 ,\n",
       "       0.        ])"
      ]
     },
     "execution_count": 39,
     "metadata": {},
     "output_type": "execute_result"
    }
   ],
   "source": [
    "cosine_sim[0]"
   ]
  },
  {
   "cell_type": "code",
   "execution_count": 40,
   "id": "fadab2f9-2f5f-4cbb-99c9-763be5bd359b",
   "metadata": {},
   "outputs": [],
   "source": [
    "# Define a function to recommend movies based on their cosine similarity and also added the in\n",
    "def recommend(movie):\n",
    "    # Retrieve the index/id of the specified movie in the dataframe to use in similarity comparisons  \n",
    "    index = new_df[new_df['title'] == movie].index[0]\n",
    "    # Sort the cosine similarity scores for the specified movie in descending order to identify the most similar movies\n",
    "    distances = sorted(list(enumerate(cosine_sim[index])),reverse=True,key = lambda x: x[1])\n",
    "    # Print the titles of the top 5 movies that are most similar to the specified movie   \n",
    "    for i in distances[1:6]:\n",
    "        print(new_df.iloc[i[0]].title)"
   ]
  },
  {
   "cell_type": "code",
   "execution_count": 42,
   "id": "1d2b3f4a-a150-4382-9504-ee9a64070c4e",
   "metadata": {},
   "outputs": [
    {
     "name": "stdout",
     "output_type": "stream",
     "text": [
      "Spider-Man 3\n",
      "The Amazing Spider-Man 2\n",
      "Spider-Man 2\n",
      "Superman III\n",
      "The Amazing Spider-Man\n"
     ]
    }
   ],
   "source": [
    "# Use the recommend function to find movies similar to keyword\n",
    "recommend(\"Spider-Man\")"
   ]
  },
  {
   "cell_type": "code",
   "execution_count": null,
   "id": "3524bc06-bb0a-4050-b705-a7d7f73410ea",
   "metadata": {},
   "outputs": [],
   "source": []
  }
 ],
 "metadata": {
  "kernelspec": {
   "display_name": "Python 3 (ipykernel)",
   "language": "python",
   "name": "python3"
  },
  "language_info": {
   "codemirror_mode": {
    "name": "ipython",
    "version": 3
   },
   "file_extension": ".py",
   "mimetype": "text/x-python",
   "name": "python",
   "nbconvert_exporter": "python",
   "pygments_lexer": "ipython3",
   "version": "3.10.12"
  }
 },
 "nbformat": 4,
 "nbformat_minor": 5
}
